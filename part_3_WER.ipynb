{
  "nbformat": 4,
  "nbformat_minor": 0,
  "metadata": {
    "colab": {
      "provenance": [],
      "gpuType": "T4"
    },
    "kernelspec": {
      "name": "python3",
      "display_name": "Python 3"
    },
    "language_info": {
      "name": "python"
    },
    "accelerator": "GPU",
    "widgets": {
      "application/vnd.jupyter.widget-state+json": {
        "62dfb65f484e4ded80bc6e28b1e499c5": {
          "model_module": "@jupyter-widgets/controls",
          "model_name": "HBoxModel",
          "model_module_version": "1.5.0",
          "state": {
            "_dom_classes": [],
            "_model_module": "@jupyter-widgets/controls",
            "_model_module_version": "1.5.0",
            "_model_name": "HBoxModel",
            "_view_count": null,
            "_view_module": "@jupyter-widgets/controls",
            "_view_module_version": "1.5.0",
            "_view_name": "HBoxView",
            "box_style": "",
            "children": [
              "IPY_MODEL_eeb82b0ed9ce485c99b1d71e299a1547",
              "IPY_MODEL_389b4e6049c34c97a5f1cd1e17c8d368",
              "IPY_MODEL_3df0fed5d6e9409391e19261b691b89b"
            ],
            "layout": "IPY_MODEL_a384fb8dde3e4761bbf713617c07a297"
          }
        },
        "eeb82b0ed9ce485c99b1d71e299a1547": {
          "model_module": "@jupyter-widgets/controls",
          "model_name": "HTMLModel",
          "model_module_version": "1.5.0",
          "state": {
            "_dom_classes": [],
            "_model_module": "@jupyter-widgets/controls",
            "_model_module_version": "1.5.0",
            "_model_name": "HTMLModel",
            "_view_count": null,
            "_view_module": "@jupyter-widgets/controls",
            "_view_module_version": "1.5.0",
            "_view_name": "HTMLView",
            "description": "",
            "description_tooltip": null,
            "layout": "IPY_MODEL_d42f20b2fd2f44d697c50d590e67a9ae",
            "placeholder": "​",
            "style": "IPY_MODEL_46d871fddac749f8af6492b78d96859d",
            "value": "Fetching 1 files: 100%"
          }
        },
        "389b4e6049c34c97a5f1cd1e17c8d368": {
          "model_module": "@jupyter-widgets/controls",
          "model_name": "FloatProgressModel",
          "model_module_version": "1.5.0",
          "state": {
            "_dom_classes": [],
            "_model_module": "@jupyter-widgets/controls",
            "_model_module_version": "1.5.0",
            "_model_name": "FloatProgressModel",
            "_view_count": null,
            "_view_module": "@jupyter-widgets/controls",
            "_view_module_version": "1.5.0",
            "_view_name": "ProgressView",
            "bar_style": "success",
            "description": "",
            "description_tooltip": null,
            "layout": "IPY_MODEL_ee42300c711b4dd584cb2487518c10f9",
            "max": 1,
            "min": 0,
            "orientation": "horizontal",
            "style": "IPY_MODEL_b9794aa3eb974586b146f29bbea108ab",
            "value": 1
          }
        },
        "3df0fed5d6e9409391e19261b691b89b": {
          "model_module": "@jupyter-widgets/controls",
          "model_name": "HTMLModel",
          "model_module_version": "1.5.0",
          "state": {
            "_dom_classes": [],
            "_model_module": "@jupyter-widgets/controls",
            "_model_module_version": "1.5.0",
            "_model_name": "HTMLModel",
            "_view_count": null,
            "_view_module": "@jupyter-widgets/controls",
            "_view_module_version": "1.5.0",
            "_view_name": "HTMLView",
            "description": "",
            "description_tooltip": null,
            "layout": "IPY_MODEL_299568bb8d364e17b9fad6997c332582",
            "placeholder": "​",
            "style": "IPY_MODEL_bc7fa10bc0b9402e86029469cc20f644",
            "value": " 1/1 [00:00&lt;00:00, 117.64it/s]"
          }
        },
        "a384fb8dde3e4761bbf713617c07a297": {
          "model_module": "@jupyter-widgets/base",
          "model_name": "LayoutModel",
          "model_module_version": "1.2.0",
          "state": {
            "_model_module": "@jupyter-widgets/base",
            "_model_module_version": "1.2.0",
            "_model_name": "LayoutModel",
            "_view_count": null,
            "_view_module": "@jupyter-widgets/base",
            "_view_module_version": "1.2.0",
            "_view_name": "LayoutView",
            "align_content": null,
            "align_items": null,
            "align_self": null,
            "border": null,
            "bottom": null,
            "display": null,
            "flex": null,
            "flex_flow": null,
            "grid_area": null,
            "grid_auto_columns": null,
            "grid_auto_flow": null,
            "grid_auto_rows": null,
            "grid_column": null,
            "grid_gap": null,
            "grid_row": null,
            "grid_template_areas": null,
            "grid_template_columns": null,
            "grid_template_rows": null,
            "height": null,
            "justify_content": null,
            "justify_items": null,
            "left": null,
            "margin": null,
            "max_height": null,
            "max_width": null,
            "min_height": null,
            "min_width": null,
            "object_fit": null,
            "object_position": null,
            "order": null,
            "overflow": null,
            "overflow_x": null,
            "overflow_y": null,
            "padding": null,
            "right": null,
            "top": null,
            "visibility": null,
            "width": null
          }
        },
        "d42f20b2fd2f44d697c50d590e67a9ae": {
          "model_module": "@jupyter-widgets/base",
          "model_name": "LayoutModel",
          "model_module_version": "1.2.0",
          "state": {
            "_model_module": "@jupyter-widgets/base",
            "_model_module_version": "1.2.0",
            "_model_name": "LayoutModel",
            "_view_count": null,
            "_view_module": "@jupyter-widgets/base",
            "_view_module_version": "1.2.0",
            "_view_name": "LayoutView",
            "align_content": null,
            "align_items": null,
            "align_self": null,
            "border": null,
            "bottom": null,
            "display": null,
            "flex": null,
            "flex_flow": null,
            "grid_area": null,
            "grid_auto_columns": null,
            "grid_auto_flow": null,
            "grid_auto_rows": null,
            "grid_column": null,
            "grid_gap": null,
            "grid_row": null,
            "grid_template_areas": null,
            "grid_template_columns": null,
            "grid_template_rows": null,
            "height": null,
            "justify_content": null,
            "justify_items": null,
            "left": null,
            "margin": null,
            "max_height": null,
            "max_width": null,
            "min_height": null,
            "min_width": null,
            "object_fit": null,
            "object_position": null,
            "order": null,
            "overflow": null,
            "overflow_x": null,
            "overflow_y": null,
            "padding": null,
            "right": null,
            "top": null,
            "visibility": null,
            "width": null
          }
        },
        "46d871fddac749f8af6492b78d96859d": {
          "model_module": "@jupyter-widgets/controls",
          "model_name": "DescriptionStyleModel",
          "model_module_version": "1.5.0",
          "state": {
            "_model_module": "@jupyter-widgets/controls",
            "_model_module_version": "1.5.0",
            "_model_name": "DescriptionStyleModel",
            "_view_count": null,
            "_view_module": "@jupyter-widgets/base",
            "_view_module_version": "1.2.0",
            "_view_name": "StyleView",
            "description_width": ""
          }
        },
        "ee42300c711b4dd584cb2487518c10f9": {
          "model_module": "@jupyter-widgets/base",
          "model_name": "LayoutModel",
          "model_module_version": "1.2.0",
          "state": {
            "_model_module": "@jupyter-widgets/base",
            "_model_module_version": "1.2.0",
            "_model_name": "LayoutModel",
            "_view_count": null,
            "_view_module": "@jupyter-widgets/base",
            "_view_module_version": "1.2.0",
            "_view_name": "LayoutView",
            "align_content": null,
            "align_items": null,
            "align_self": null,
            "border": null,
            "bottom": null,
            "display": null,
            "flex": null,
            "flex_flow": null,
            "grid_area": null,
            "grid_auto_columns": null,
            "grid_auto_flow": null,
            "grid_auto_rows": null,
            "grid_column": null,
            "grid_gap": null,
            "grid_row": null,
            "grid_template_areas": null,
            "grid_template_columns": null,
            "grid_template_rows": null,
            "height": null,
            "justify_content": null,
            "justify_items": null,
            "left": null,
            "margin": null,
            "max_height": null,
            "max_width": null,
            "min_height": null,
            "min_width": null,
            "object_fit": null,
            "object_position": null,
            "order": null,
            "overflow": null,
            "overflow_x": null,
            "overflow_y": null,
            "padding": null,
            "right": null,
            "top": null,
            "visibility": null,
            "width": null
          }
        },
        "b9794aa3eb974586b146f29bbea108ab": {
          "model_module": "@jupyter-widgets/controls",
          "model_name": "ProgressStyleModel",
          "model_module_version": "1.5.0",
          "state": {
            "_model_module": "@jupyter-widgets/controls",
            "_model_module_version": "1.5.0",
            "_model_name": "ProgressStyleModel",
            "_view_count": null,
            "_view_module": "@jupyter-widgets/base",
            "_view_module_version": "1.2.0",
            "_view_name": "StyleView",
            "bar_color": null,
            "description_width": ""
          }
        },
        "299568bb8d364e17b9fad6997c332582": {
          "model_module": "@jupyter-widgets/base",
          "model_name": "LayoutModel",
          "model_module_version": "1.2.0",
          "state": {
            "_model_module": "@jupyter-widgets/base",
            "_model_module_version": "1.2.0",
            "_model_name": "LayoutModel",
            "_view_count": null,
            "_view_module": "@jupyter-widgets/base",
            "_view_module_version": "1.2.0",
            "_view_name": "LayoutView",
            "align_content": null,
            "align_items": null,
            "align_self": null,
            "border": null,
            "bottom": null,
            "display": null,
            "flex": null,
            "flex_flow": null,
            "grid_area": null,
            "grid_auto_columns": null,
            "grid_auto_flow": null,
            "grid_auto_rows": null,
            "grid_column": null,
            "grid_gap": null,
            "grid_row": null,
            "grid_template_areas": null,
            "grid_template_columns": null,
            "grid_template_rows": null,
            "height": null,
            "justify_content": null,
            "justify_items": null,
            "left": null,
            "margin": null,
            "max_height": null,
            "max_width": null,
            "min_height": null,
            "min_width": null,
            "object_fit": null,
            "object_position": null,
            "order": null,
            "overflow": null,
            "overflow_x": null,
            "overflow_y": null,
            "padding": null,
            "right": null,
            "top": null,
            "visibility": null,
            "width": null
          }
        },
        "bc7fa10bc0b9402e86029469cc20f644": {
          "model_module": "@jupyter-widgets/controls",
          "model_name": "DescriptionStyleModel",
          "model_module_version": "1.5.0",
          "state": {
            "_model_module": "@jupyter-widgets/controls",
            "_model_module_version": "1.5.0",
            "_model_name": "DescriptionStyleModel",
            "_view_count": null,
            "_view_module": "@jupyter-widgets/base",
            "_view_module_version": "1.2.0",
            "_view_name": "StyleView",
            "description_width": ""
          }
        }
      }
    }
  },
  "cells": [
    {
      "cell_type": "code",
      "execution_count": 6,
      "metadata": {
        "colab": {
          "base_uri": "https://localhost:8080/"
        },
        "id": "Xn7RW_aVecpk",
        "outputId": "09c43e1b-ddd0-457e-f7a5-3a7231d4e6ad"
      },
      "outputs": [
        {
          "output_type": "stream",
          "name": "stdout",
          "text": [
            "Requirement already satisfied: evaluate in /usr/local/lib/python3.12/dist-packages (0.4.6)\n",
            "Requirement already satisfied: jiwer in /usr/local/lib/python3.12/dist-packages (4.0.0)\n",
            "Requirement already satisfied: datasets>=2.0.0 in /usr/local/lib/python3.12/dist-packages (from evaluate) (4.0.0)\n",
            "Requirement already satisfied: numpy>=1.17 in /usr/local/lib/python3.12/dist-packages (from evaluate) (2.0.2)\n",
            "Requirement already satisfied: dill in /usr/local/lib/python3.12/dist-packages (from evaluate) (0.3.8)\n",
            "Requirement already satisfied: pandas in /usr/local/lib/python3.12/dist-packages (from evaluate) (2.2.2)\n",
            "Requirement already satisfied: requests>=2.19.0 in /usr/local/lib/python3.12/dist-packages (from evaluate) (2.32.4)\n",
            "Requirement already satisfied: tqdm>=4.62.1 in /usr/local/lib/python3.12/dist-packages (from evaluate) (4.67.1)\n",
            "Requirement already satisfied: xxhash in /usr/local/lib/python3.12/dist-packages (from evaluate) (3.5.0)\n",
            "Requirement already satisfied: multiprocess in /usr/local/lib/python3.12/dist-packages (from evaluate) (0.70.16)\n",
            "Requirement already satisfied: fsspec>=2021.05.0 in /usr/local/lib/python3.12/dist-packages (from fsspec[http]>=2021.05.0->evaluate) (2025.3.0)\n",
            "Requirement already satisfied: huggingface-hub>=0.7.0 in /usr/local/lib/python3.12/dist-packages (from evaluate) (0.35.0)\n",
            "Requirement already satisfied: packaging in /usr/local/lib/python3.12/dist-packages (from evaluate) (25.0)\n",
            "Requirement already satisfied: click>=8.1.8 in /usr/local/lib/python3.12/dist-packages (from jiwer) (8.2.1)\n",
            "Requirement already satisfied: rapidfuzz>=3.9.7 in /usr/local/lib/python3.12/dist-packages (from jiwer) (3.14.1)\n",
            "Requirement already satisfied: filelock in /usr/local/lib/python3.12/dist-packages (from datasets>=2.0.0->evaluate) (3.19.1)\n",
            "Requirement already satisfied: pyarrow>=15.0.0 in /usr/local/lib/python3.12/dist-packages (from datasets>=2.0.0->evaluate) (18.1.0)\n",
            "Requirement already satisfied: pyyaml>=5.1 in /usr/local/lib/python3.12/dist-packages (from datasets>=2.0.0->evaluate) (6.0.2)\n",
            "Requirement already satisfied: aiohttp!=4.0.0a0,!=4.0.0a1 in /usr/local/lib/python3.12/dist-packages (from fsspec[http]>=2021.05.0->evaluate) (3.12.15)\n",
            "Requirement already satisfied: typing-extensions>=3.7.4.3 in /usr/local/lib/python3.12/dist-packages (from huggingface-hub>=0.7.0->evaluate) (4.15.0)\n",
            "Requirement already satisfied: hf-xet<2.0.0,>=1.1.3 in /usr/local/lib/python3.12/dist-packages (from huggingface-hub>=0.7.0->evaluate) (1.1.10)\n",
            "Requirement already satisfied: charset_normalizer<4,>=2 in /usr/local/lib/python3.12/dist-packages (from requests>=2.19.0->evaluate) (3.4.3)\n",
            "Requirement already satisfied: idna<4,>=2.5 in /usr/local/lib/python3.12/dist-packages (from requests>=2.19.0->evaluate) (3.10)\n",
            "Requirement already satisfied: urllib3<3,>=1.21.1 in /usr/local/lib/python3.12/dist-packages (from requests>=2.19.0->evaluate) (2.5.0)\n",
            "Requirement already satisfied: certifi>=2017.4.17 in /usr/local/lib/python3.12/dist-packages (from requests>=2.19.0->evaluate) (2025.8.3)\n",
            "Requirement already satisfied: python-dateutil>=2.8.2 in /usr/local/lib/python3.12/dist-packages (from pandas->evaluate) (2.9.0.post0)\n",
            "Requirement already satisfied: pytz>=2020.1 in /usr/local/lib/python3.12/dist-packages (from pandas->evaluate) (2025.2)\n",
            "Requirement already satisfied: tzdata>=2022.7 in /usr/local/lib/python3.12/dist-packages (from pandas->evaluate) (2025.2)\n",
            "Requirement already satisfied: aiohappyeyeballs>=2.5.0 in /usr/local/lib/python3.12/dist-packages (from aiohttp!=4.0.0a0,!=4.0.0a1->fsspec[http]>=2021.05.0->evaluate) (2.6.1)\n",
            "Requirement already satisfied: aiosignal>=1.4.0 in /usr/local/lib/python3.12/dist-packages (from aiohttp!=4.0.0a0,!=4.0.0a1->fsspec[http]>=2021.05.0->evaluate) (1.4.0)\n",
            "Requirement already satisfied: attrs>=17.3.0 in /usr/local/lib/python3.12/dist-packages (from aiohttp!=4.0.0a0,!=4.0.0a1->fsspec[http]>=2021.05.0->evaluate) (25.3.0)\n",
            "Requirement already satisfied: frozenlist>=1.1.1 in /usr/local/lib/python3.12/dist-packages (from aiohttp!=4.0.0a0,!=4.0.0a1->fsspec[http]>=2021.05.0->evaluate) (1.7.0)\n",
            "Requirement already satisfied: multidict<7.0,>=4.5 in /usr/local/lib/python3.12/dist-packages (from aiohttp!=4.0.0a0,!=4.0.0a1->fsspec[http]>=2021.05.0->evaluate) (6.6.4)\n",
            "Requirement already satisfied: propcache>=0.2.0 in /usr/local/lib/python3.12/dist-packages (from aiohttp!=4.0.0a0,!=4.0.0a1->fsspec[http]>=2021.05.0->evaluate) (0.3.2)\n",
            "Requirement already satisfied: yarl<2.0,>=1.17.0 in /usr/local/lib/python3.12/dist-packages (from aiohttp!=4.0.0a0,!=4.0.0a1->fsspec[http]>=2021.05.0->evaluate) (1.20.1)\n",
            "Requirement already satisfied: six>=1.5 in /usr/local/lib/python3.12/dist-packages (from python-dateutil>=2.8.2->pandas->evaluate) (1.17.0)\n"
          ]
        }
      ],
      "source": [
        "!pip install evaluate jiwer"
      ]
    },
    {
      "cell_type": "code",
      "source": [
        "from datasets import load_dataset\n",
        "import matplotlib.pyplot as plt\n",
        "import numpy as np\n",
        "from IPython.display import Audio\n",
        "from scipy.signal import resample\n",
        "import torch\n",
        "from tqdm import tqdm\n",
        "from torch.utils.data import DataLoader\n",
        "\n",
        "\n",
        "from transformers import WhisperTokenizer\n",
        "from transformers import WhisperFeatureExtractor\n",
        "from transformers import WhisperForConditionalGeneration"
      ],
      "metadata": {
        "id": "U2WDLjr7ewvB"
      },
      "execution_count": 7,
      "outputs": []
    },
    {
      "cell_type": "code",
      "source": [
        "import evaluate\n",
        "\n",
        "wer  = evaluate.load('wer')"
      ],
      "metadata": {
        "colab": {
          "base_uri": "https://localhost:8080/"
        },
        "id": "Z1ORBdx7ewxP",
        "outputId": "74afb21d-075a-43d9-fb0c-4d06c118ef53"
      },
      "execution_count": 8,
      "outputs": [
        {
          "output_type": "stream",
          "name": "stderr",
          "text": [
            "/usr/local/lib/python3.12/dist-packages/huggingface_hub/utils/_auth.py:94: UserWarning: \n",
            "The secret `HF_TOKEN` does not exist in your Colab secrets.\n",
            "To authenticate with the Hugging Face Hub, create a token in your settings tab (https://huggingface.co/settings/tokens), set it as secret in your Google Colab and restart your session.\n",
            "You will be able to reuse this secret in all of your notebooks.\n",
            "Please note that authentication is recommended but still optional to access public models or datasets.\n",
            "  warnings.warn(\n"
          ]
        }
      ]
    },
    {
      "cell_type": "code",
      "source": [
        "from datasets import load_dataset\n",
        "\n",
        "# Define the path to your parquet file\n",
        "parquet_file_path = '/content/hf_dataset.parquet'\n",
        "\n",
        "# Load the dataset from the parquet file\n",
        "hf_dataset_from_parquet = load_dataset('parquet', data_files=parquet_file_path)\n",
        "\n",
        "# Display the loaded dataset\n",
        "print(hf_dataset_from_parquet)"
      ],
      "metadata": {
        "colab": {
          "base_uri": "https://localhost:8080/"
        },
        "id": "PttXkGJrewzl",
        "outputId": "01545c2a-093d-4eb2-c788-4bc8f05fbf2e"
      },
      "execution_count": 9,
      "outputs": [
        {
          "output_type": "stream",
          "name": "stdout",
          "text": [
            "DatasetDict({\n",
            "    train: Dataset({\n",
            "        features: ['user_id', 'recording_id', 'language', 'duration', 'rec_url_gcp', 'transcription_url_gcp', 'metadata_url_gcp', 'audio_path', 'transcription_path'],\n",
            "        num_rows: 104\n",
            "    })\n",
            "})\n"
          ]
        }
      ]
    },
    {
      "cell_type": "code",
      "source": [],
      "metadata": {
        "id": "YoLi3Guvew1z"
      },
      "execution_count": 9,
      "outputs": []
    },
    {
      "cell_type": "markdown",
      "source": [
        "# Task\n",
        "Load the dataset from \"/content/hf_dataset.parquet\", extract the sampling rates from the audio data, and plot a histogram of the sampling rates."
      ],
      "metadata": {
        "id": "U9awK_87e841"
      }
    },
    {
      "cell_type": "code",
      "metadata": {
        "colab": {
          "base_uri": "https://localhost:8080/",
          "height": 139
        },
        "id": "a61c3c48",
        "outputId": "77e875e7-a4a1-4b7b-9ef1-5c69eff35b7f"
      },
      "source": [
        "display(hf_dataset_from_parquet)"
      ],
      "execution_count": 10,
      "outputs": [
        {
          "output_type": "display_data",
          "data": {
            "text/plain": [
              "DatasetDict({\n",
              "    train: Dataset({\n",
              "        features: ['user_id', 'recording_id', 'language', 'duration', 'rec_url_gcp', 'transcription_url_gcp', 'metadata_url_gcp', 'audio_path', 'transcription_path'],\n",
              "        num_rows: 104\n",
              "    })\n",
              "})"
            ]
          },
          "metadata": {}
        }
      ]
    },
    {
      "cell_type": "markdown",
      "source": [],
      "metadata": {
        "id": "XRZ8zPelgO18"
      }
    },
    {
      "cell_type": "code",
      "metadata": {
        "colab": {
          "base_uri": "https://localhost:8080/"
        },
        "id": "43aa061f",
        "outputId": "367f0158-c3c1-4217-a3be-b605db6323f7"
      },
      "source": [
        "print(hf_dataset_from_parquet['train'].features)"
      ],
      "execution_count": 11,
      "outputs": [
        {
          "output_type": "stream",
          "name": "stdout",
          "text": [
            "{'user_id': Value('int64'), 'recording_id': Value('int64'), 'language': Value('string'), 'duration': Value('int64'), 'rec_url_gcp': Value('string'), 'transcription_url_gcp': Value('string'), 'metadata_url_gcp': Value('string'), 'audio_path': Value('string'), 'transcription_path': Value('string')}\n"
          ]
        }
      ]
    },
    {
      "cell_type": "code",
      "metadata": {
        "colab": {
          "base_uri": "https://localhost:8080/",
          "height": 564
        },
        "id": "07492e92",
        "outputId": "f6bcc932-a1a1-46f2-b3bc-b190b9ff3b59"
      },
      "source": [
        "import librosa\n",
        "import os\n",
        "\n",
        "sampling_rates = []\n",
        "# Iterate through each audio path in the dataset\n",
        "for audio_path in hf_dataset_from_parquet['train']['audio_path']:\n",
        "    try:\n",
        "        # Load the audio file and get the sampling rate\n",
        "        y, sr = librosa.load(audio_path, sr=None)\n",
        "        sampling_rates.append(sr)\n",
        "    except Exception as e:\n",
        "        print(f\"Error loading audio from {audio_path}: {e}\")\n",
        "        # Optionally, you can append None or a specific value to indicate failure\n",
        "        # sampling_rates.append(None)\n",
        "\n",
        "\n",
        "plt.figure(figsize=(10, 6))\n",
        "plt.hist(sampling_rates, bins=20, edgecolor='black')\n",
        "plt.xlabel('Sampling Rate (Hz)')\n",
        "plt.ylabel('Frequency')\n",
        "plt.title('Histogram of Audio Sampling Rates')\n",
        "plt.grid(True)\n",
        "plt.show()"
      ],
      "execution_count": 12,
      "outputs": [
        {
          "output_type": "display_data",
          "data": {
            "text/plain": [
              "<Figure size 1000x600 with 1 Axes>"
            ],
            "image/png": "[encoded data removed]"
          },
          "metadata": {}
        }
      ]
    },
    {
      "cell_type": "markdown",
      "source": [
        "# What frequencies are present in the dataset"
      ],
      "metadata": {
        "id": "yUSNZ5RngO4E"
      }
    },
    {
      "cell_type": "code",
      "source": [],
      "metadata": {
        "id": "WG7_zWFlew62"
      },
      "execution_count": 12,
      "outputs": []
    },
    {
      "cell_type": "code",
      "metadata": {
        "colab": {
          "base_uri": "https://localhost:8080/",
          "height": 465
        },
        "id": "57d719d4",
        "outputId": "e628e973-24a1-4b3e-921f-4c9f855a373c"
      },
      "source": [
        "import matplotlib.pyplot as plt\n",
        "from tqdm import tqdm\n",
        "import librosa # Import librosa to load audio files\n",
        "\n",
        "sr_list=[]\n",
        "for sample in tqdm(hf_dataset_from_parquet['train'],total=len(hf_dataset_from_parquet['train'])):\n",
        "    # Assuming 'audio_path' is the column containing the path to the audio file\n",
        "    audio_path = sample['audio_path']\n",
        "    try:\n",
        "        # Load the audio file and get the sampling rate\n",
        "        y, sr = librosa.load(audio_path, sr=None)\n",
        "        sr_list.append(sr)\n",
        "    except Exception as e:\n",
        "        print(f\"Error loading audio from {audio_path}: {e}\")\n",
        "        # Optionally, you can append None or a specific value to indicate failure\n",
        "\n",
        "\n",
        "plt.hist(sr_list)\n",
        "plt.show()"
      ],
      "execution_count": 13,
      "outputs": [
        {
          "output_type": "stream",
          "name": "stderr",
          "text": [
            "100%|██████████| 104/104 [00:33<00:00,  3.13it/s]\n"
          ]
        },
        {
          "output_type": "display_data",
          "data": {
            "text/plain": [
              "<Figure size 640x480 with 1 Axes>"
            ],
            "image/png": "[encoded data removed]"
          },
          "metadata": {}
        }
      ]
    },
    {
      "cell_type": "markdown",
      "source": [],
      "metadata": {
        "id": "Lji6leSDhnb-"
      }
    },
    {
      "cell_type": "code",
      "source": [],
      "metadata": {
        "id": "NRtcEMpEhoxA"
      },
      "execution_count": 13,
      "outputs": []
    },
    {
      "cell_type": "markdown",
      "metadata": {
        "id": "fabeea5b"
      },
      "source": [
        "As there is 32000Hz present in the dataset, we will have to downsample the audio into 16000Hz.\n",
        "\n",
        "Here's why downsampling is needed in this scenario:\n",
        "\n",
        "*   **Consistency:** To ensure all audio data is at a uniform sampling rate, which is crucial for many audio processing tasks and for compatibility with models trained on specific sampling rates.\n",
        "*   **Computational Efficiency:** Processing audio at lower sampling rates requires less computational resources and storage space.\n",
        "*   **Model Compatibility:** Many pre-trained models for speech recognition or other audio tasks are trained on data sampled at 16000Hz. Downsampling your data to match this allows you to use these models effectively.\n",
        "\n",
        "By downsampling the 32000Hz audio to 16000Hz, you are reducing the number of samples per second while preserving the relevant information for speech, as the human voice's fundamental frequencies and formants are well within the range captured at 16000Hz."
      ]
    },
    {
      "cell_type": "code",
      "source": [],
      "metadata": {
        "id": "2fF_PG-Rhoz0"
      },
      "execution_count": 13,
      "outputs": []
    },
    {
      "cell_type": "code",
      "metadata": {
        "colab": {
          "base_uri": "https://localhost:8080/",
          "height": 49,
          "referenced_widgets": [
            "62dfb65f484e4ded80bc6e28b1e499c5",
            "eeb82b0ed9ce485c99b1d71e299a1547",
            "389b4e6049c34c97a5f1cd1e17c8d368",
            "3df0fed5d6e9409391e19261b691b89b",
            "a384fb8dde3e4761bbf713617c07a297",
            "d42f20b2fd2f44d697c50d590e67a9ae",
            "46d871fddac749f8af6492b78d96859d",
            "ee42300c711b4dd584cb2487518c10f9",
            "b9794aa3eb974586b146f29bbea108ab",
            "299568bb8d364e17b9fad6997c332582",
            "bc7fa10bc0b9402e86029469cc20f644"
          ]
        },
        "id": "8163218d",
        "outputId": "2d60684f-fee8-4e95-d04e-e70245e66f75"
      },
      "source": [
        "tokenizer = WhisperTokenizer.from_pretrained(\"openai/whisper-small\",language='english',task='transcribe')\n",
        "feature_extractor = WhisperFeatureExtractor.from_pretrained(\"openai/whisper-small\",language='english',task='transcribe')\n",
        "model = WhisperForConditionalGeneration.from_pretrained(\"openai/whisper-small\").to('cuda')"
      ],
      "execution_count": 14,
      "outputs": [
        {
          "output_type": "display_data",
          "data": {
            "text/plain": [
              "Fetching 1 files:   0%|          | 0/1 [00:00<?, ?it/s]"
            ],
            "application/vnd.jupyter.widget-view+json": {
              "version_major": 2,
              "version_minor": 0,
              "model_id": "62dfb65f484e4ded80bc6e28b1e499c5"
            }
          },
          "metadata": {}
        }
      ]
    },
    {
      "cell_type": "code",
      "metadata": {
        "id": "d31fdea1"
      },
      "source": [
        "from scipy.signal import resample\n",
        "\n",
        "def down_sample_audio(audio_original, original_sample_rate):\n",
        "    target_sample_rate = 16000\n",
        "\n",
        "    # Calculate the number of samples for the target sample rate\n",
        "    num_samples = int(len(audio_original) * target_sample_rate / original_sample_rate)\n",
        "\n",
        "    # Resample the audio array to the target sample rate\n",
        "    downsampled_audio = resample(audio_original, num_samples)\n",
        "\n",
        "    return downsampled_audio"
      ],
      "execution_count": 15,
      "outputs": []
    },
    {
      "cell_type": "code",
      "metadata": {
        "colab": {
          "base_uri": "https://localhost:8080/"
        },
        "id": "75897677",
        "outputId": "137d7c7a-b000-4eed-9612-14d738b4073d"
      },
      "source": [
        "import librosa\n",
        "\n",
        "# Get the path and original sampling rate of the first audio file in the dataset\n",
        "first_audio_path = hf_dataset_from_parquet['train'][0]['audio_path']\n",
        "# Load the audio file and get the original sampling rate\n",
        "audio_original, original_sample_rate = librosa.load(first_audio_path, sr=None)\n",
        "\n",
        "# Downsample the audio\n",
        "downsampled_audio = down_sample_audio(audio_original, original_sample_rate)\n",
        "\n",
        "print(f\"Original audio length: {len(audio_original)}\")\n",
        "print(f\"Downsampled audio length: {len(downsampled_audio)}\")\n",
        "print(f\"Original sampling rate: {original_sample_rate}\")\n",
        "print(f\"Target sampling rate: 16000\")"
      ],
      "execution_count": 16,
      "outputs": [
        {
          "output_type": "stream",
          "name": "stdout",
          "text": [
            "Original audio length: 17153509\n",
            "Downsampled audio length: 6223495\n",
            "Original sampling rate: 44100\n",
            "Target sampling rate: 16000\n"
          ]
        }
      ]
    },
    {
      "cell_type": "code",
      "source": [],
      "metadata": {
        "id": "oVlhcuNPho2X"
      },
      "execution_count": 16,
      "outputs": []
    },
    {
      "cell_type": "code",
      "metadata": {
        "colab": {
          "base_uri": "https://localhost:8080/",
          "height": 428
        },
        "id": "4e5d009f",
        "outputId": "bd89c4d5-0214-4f1a-a2d9-1db7f3413d6f"
      },
      "source": [
        "predictions=[]\n",
        "references=[]\n",
        "\n",
        "for sample in tqdm(hf_dataset_from_parquet['train'],total=len(hf_dataset_from_parquet['train'])):\n",
        "    audio_path = sample['audio_path']\n",
        "    transcription_path = sample['transcription_path']\n",
        "\n",
        "    try:\n",
        "        # Load the audio file\n",
        "        audio, sample_rate = librosa.load(audio_path, sr=None)\n",
        "\n",
        "        # Downsample the audio if necessary\n",
        "        if sample_rate != 16000:\n",
        "            audio = down_sample_audio(audio, sample_rate)\n",
        "            sample_rate = 16000 # Update sample_rate after downsampling\n",
        "\n",
        "\n",
        "        # Load the transcription\n",
        "        with open(transcription_path, 'r') as f:\n",
        "            text = f.read().strip()\n",
        "\n",
        "\n",
        "        input_features = feature_extractor(\n",
        "        raw_speech=audio,\n",
        "        sampling_rate=sample_rate, # Use the actual or downsampled sample rate\n",
        "        return_tensors='pt',\n",
        "        padding=True).input_features\n",
        "\n",
        "        # Generate predictions with no gradient computation\n",
        "        with torch.no_grad():\n",
        "            op = model.generate(input_features.to('cuda'), language='english', task='transcribe')\n",
        "\n",
        "        # Decode predictions\n",
        "        text_preds = tokenizer.batch_decode(op, skip_special_tokens=True)\n",
        "\n",
        "        # Append batch predictions and references to the respective lists\n",
        "        predictions.extend(text_preds)\n",
        "        references.extend([text])\n",
        "\n",
        "    except Exception as e:\n",
        "        print(f\"Error processing sample from {audio_path}: {e}\")\n",
        "\n",
        "    # break # Uncomment this line to test with a single sample"
      ],
      "execution_count": 17,
      "outputs": [
        {
          "output_type": "stream",
          "name": "stderr",
          "text": [
            "  0%|          | 0/104 [00:00<?, ?it/s]The attention mask is not set and cannot be inferred from input because pad token is same as eos token. As a consequence, you may observe unexpected behavior. Please pass your input's `attention_mask` to obtain reliable results.\n",
            " 12%|█▏        | 12/104 [02:11<16:51, 11.00s/it]\n"
          ]
        },
        {
          "output_type": "error",
          "ename": "KeyboardInterrupt",
          "evalue": "",
          "traceback": [
            "\u001b[0;31m---------------------------------------------------------------------------\u001b[0m",
            "\u001b[0;31mKeyboardInterrupt\u001b[0m                         Traceback (most recent call last)",
            "\u001b[0;32m/tmp/ipython-input-2259153730.py\u001b[0m in \u001b[0;36m<cell line: 0>\u001b[0;34m()\u001b[0m\n\u001b[1;32m     12\u001b[0m         \u001b[0;31m# Downsample the audio if necessary\u001b[0m\u001b[0;34m\u001b[0m\u001b[0;34m\u001b[0m\u001b[0m\n\u001b[1;32m     13\u001b[0m         \u001b[0;32mif\u001b[0m \u001b[0msample_rate\u001b[0m \u001b[0;34m!=\u001b[0m \u001b[0;36m16000\u001b[0m\u001b[0;34m:\u001b[0m\u001b[0;34m\u001b[0m\u001b[0;34m\u001b[0m\u001b[0m\n\u001b[0;32m---> 14\u001b[0;31m             \u001b[0maudio\u001b[0m \u001b[0;34m=\u001b[0m \u001b[0mdown_sample_audio\u001b[0m\u001b[0;34m(\u001b[0m\u001b[0maudio\u001b[0m\u001b[0;34m,\u001b[0m \u001b[0msample_rate\u001b[0m\u001b[0;34m)\u001b[0m\u001b[0;34m\u001b[0m\u001b[0;34m\u001b[0m\u001b[0m\n\u001b[0m\u001b[1;32m     15\u001b[0m             \u001b[0msample_rate\u001b[0m \u001b[0;34m=\u001b[0m \u001b[0;36m16000\u001b[0m \u001b[0;31m# Update sample_rate after downsampling\u001b[0m\u001b[0;34m\u001b[0m\u001b[0;34m\u001b[0m\u001b[0m\n\u001b[1;32m     16\u001b[0m \u001b[0;34m\u001b[0m\u001b[0m\n",
            "\u001b[0;32m/tmp/ipython-input-1964163732.py\u001b[0m in \u001b[0;36mdown_sample_audio\u001b[0;34m(audio_original, original_sample_rate)\u001b[0m\n\u001b[1;32m      8\u001b[0m \u001b[0;34m\u001b[0m\u001b[0m\n\u001b[1;32m      9\u001b[0m     \u001b[0;31m# Resample the audio array to the target sample rate\u001b[0m\u001b[0;34m\u001b[0m\u001b[0;34m\u001b[0m\u001b[0m\n\u001b[0;32m---> 10\u001b[0;31m     \u001b[0mdownsampled_audio\u001b[0m \u001b[0;34m=\u001b[0m \u001b[0mresample\u001b[0m\u001b[0;34m(\u001b[0m\u001b[0maudio_original\u001b[0m\u001b[0;34m,\u001b[0m \u001b[0mnum_samples\u001b[0m\u001b[0;34m)\u001b[0m\u001b[0;34m\u001b[0m\u001b[0;34m\u001b[0m\u001b[0m\n\u001b[0m\u001b[1;32m     11\u001b[0m \u001b[0;34m\u001b[0m\u001b[0m\n\u001b[1;32m     12\u001b[0m     \u001b[0;32mreturn\u001b[0m \u001b[0mdownsampled_audio\u001b[0m\u001b[0;34m\u001b[0m\u001b[0;34m\u001b[0m\u001b[0m\n",
            "\u001b[0;32m/usr/local/lib/python3.12/dist-packages/scipy/signal/_signaltools.py\u001b[0m in \u001b[0;36mresample\u001b[0;34m(x, num, t, axis, window, domain)\u001b[0m\n\u001b[1;32m   3773\u001b[0m \u001b[0;34m\u001b[0m\u001b[0m\n\u001b[1;32m   3774\u001b[0m     \u001b[0;32mif\u001b[0m \u001b[0mdomain\u001b[0m \u001b[0;34m==\u001b[0m \u001b[0;34m'time'\u001b[0m \u001b[0;32mand\u001b[0m \u001b[0;32mnot\u001b[0m \u001b[0mxp\u001b[0m\u001b[0;34m.\u001b[0m\u001b[0misdtype\u001b[0m\u001b[0;34m(\u001b[0m\u001b[0mx\u001b[0m\u001b[0;34m.\u001b[0m\u001b[0mdtype\u001b[0m\u001b[0;34m,\u001b[0m \u001b[0;34m'complex floating'\u001b[0m\u001b[0;34m)\u001b[0m\u001b[0;34m:\u001b[0m  \u001b[0;31m# use rfft():\u001b[0m\u001b[0;34m\u001b[0m\u001b[0;34m\u001b[0m\u001b[0m\n\u001b[0;32m-> 3775\u001b[0;31m         \u001b[0mX\u001b[0m \u001b[0;34m=\u001b[0m \u001b[0msp_fft\u001b[0m\u001b[0;34m.\u001b[0m\u001b[0mrfft\u001b[0m\u001b[0;34m(\u001b[0m\u001b[0mx\u001b[0m\u001b[0;34m)\u001b[0m\u001b[0;34m\u001b[0m\u001b[0;34m\u001b[0m\u001b[0m\n\u001b[0m\u001b[1;32m   3776\u001b[0m         \u001b[0;32mif\u001b[0m \u001b[0mW\u001b[0m \u001b[0;32mis\u001b[0m \u001b[0;32mnot\u001b[0m \u001b[0;32mNone\u001b[0m\u001b[0;34m:\u001b[0m  \u001b[0;31m# fold window, i.e., W1[l] = (W[l] + W[-l]) / 2 for l > 0\u001b[0m\u001b[0;34m\u001b[0m\u001b[0;34m\u001b[0m\u001b[0m\n\u001b[1;32m   3777\u001b[0m             \u001b[0mn_X\u001b[0m \u001b[0;34m=\u001b[0m \u001b[0mX\u001b[0m\u001b[0;34m.\u001b[0m\u001b[0mshape\u001b[0m\u001b[0;34m[\u001b[0m\u001b[0;34m-\u001b[0m\u001b[0;36m1\u001b[0m\u001b[0;34m]\u001b[0m\u001b[0;34m\u001b[0m\u001b[0;34m\u001b[0m\u001b[0m\n",
            "\u001b[0;32m/usr/local/lib/python3.12/dist-packages/scipy/fft/_backend.py\u001b[0m in \u001b[0;36m__ua_function__\u001b[0;34m(method, args, kwargs)\u001b[0m\n\u001b[1;32m     26\u001b[0m         \u001b[0;32mif\u001b[0m \u001b[0mfn\u001b[0m \u001b[0;32mis\u001b[0m \u001b[0;32mNone\u001b[0m\u001b[0;34m:\u001b[0m\u001b[0;34m\u001b[0m\u001b[0;34m\u001b[0m\u001b[0m\n\u001b[1;32m     27\u001b[0m             \u001b[0;32mreturn\u001b[0m \u001b[0mNotImplemented\u001b[0m\u001b[0;34m\u001b[0m\u001b[0;34m\u001b[0m\u001b[0m\n\u001b[0;32m---> 28\u001b[0;31m         \u001b[0;32mreturn\u001b[0m \u001b[0mfn\u001b[0m\u001b[0;34m(\u001b[0m\u001b[0;34m*\u001b[0m\u001b[0margs\u001b[0m\u001b[0;34m,\u001b[0m \u001b[0;34m**\u001b[0m\u001b[0mkwargs\u001b[0m\u001b[0;34m)\u001b[0m\u001b[0;34m\u001b[0m\u001b[0;34m\u001b[0m\u001b[0m\n\u001b[0m\u001b[1;32m     29\u001b[0m \u001b[0;34m\u001b[0m\u001b[0m\n\u001b[1;32m     30\u001b[0m \u001b[0;34m\u001b[0m\u001b[0m\n",
            "\u001b[0;32m/usr/local/lib/python3.12/dist-packages/scipy/fft/_basic_backend.py\u001b[0m in \u001b[0;36mrfft\u001b[0;34m(x, n, axis, norm, overwrite_x, workers, plan)\u001b[0m\n\u001b[1;32m     89\u001b[0m def rfft(x, n=None, axis=-1, norm=None,\n\u001b[1;32m     90\u001b[0m          overwrite_x=False, workers=None, *, plan=None):\n\u001b[0;32m---> 91\u001b[0;31m     return _execute_1D('rfft', _pocketfft.rfft, x, n=n, axis=axis, norm=norm,\n\u001b[0m\u001b[1;32m     92\u001b[0m                        overwrite_x=overwrite_x, workers=workers, plan=plan)\n\u001b[1;32m     93\u001b[0m \u001b[0;34m\u001b[0m\u001b[0m\n",
            "\u001b[0;32m/usr/local/lib/python3.12/dist-packages/scipy/fft/_basic_backend.py\u001b[0m in \u001b[0;36m_execute_1D\u001b[0;34m(func_str, pocketfft_func, x, n, axis, norm, overwrite_x, workers, plan)\u001b[0m\n\u001b[1;32m     30\u001b[0m     \u001b[0;32mif\u001b[0m \u001b[0mis_numpy\u001b[0m\u001b[0;34m(\u001b[0m\u001b[0mxp\u001b[0m\u001b[0;34m)\u001b[0m\u001b[0;34m:\u001b[0m\u001b[0;34m\u001b[0m\u001b[0;34m\u001b[0m\u001b[0m\n\u001b[1;32m     31\u001b[0m         \u001b[0mx\u001b[0m \u001b[0;34m=\u001b[0m \u001b[0mnp\u001b[0m\u001b[0;34m.\u001b[0m\u001b[0masarray\u001b[0m\u001b[0;34m(\u001b[0m\u001b[0mx\u001b[0m\u001b[0;34m)\u001b[0m\u001b[0;34m\u001b[0m\u001b[0;34m\u001b[0m\u001b[0m\n\u001b[0;32m---> 32\u001b[0;31m         return pocketfft_func(x, n=n, axis=axis, norm=norm,\n\u001b[0m\u001b[1;32m     33\u001b[0m                               overwrite_x=overwrite_x, workers=workers, plan=plan)\n\u001b[1;32m     34\u001b[0m \u001b[0;34m\u001b[0m\u001b[0m\n",
            "\u001b[0;32m/usr/local/lib/python3.12/dist-packages/scipy/fft/_pocketfft/basic.py\u001b[0m in \u001b[0;36mr2c\u001b[0;34m(forward, x, n, axis, norm, overwrite_x, workers, plan)\u001b[0m\n\u001b[1;32m     59\u001b[0m \u001b[0;34m\u001b[0m\u001b[0m\n\u001b[1;32m     60\u001b[0m     \u001b[0;31m# Note: overwrite_x is not utilised\u001b[0m\u001b[0;34m\u001b[0m\u001b[0;34m\u001b[0m\u001b[0m\n\u001b[0;32m---> 61\u001b[0;31m     \u001b[0;32mreturn\u001b[0m \u001b[0mpfft\u001b[0m\u001b[0;34m.\u001b[0m\u001b[0mr2c\u001b[0m\u001b[0;34m(\u001b[0m\u001b[0mtmp\u001b[0m\u001b[0;34m,\u001b[0m \u001b[0;34m(\u001b[0m\u001b[0maxis\u001b[0m\u001b[0;34m,\u001b[0m\u001b[0;34m)\u001b[0m\u001b[0;34m,\u001b[0m \u001b[0mforward\u001b[0m\u001b[0;34m,\u001b[0m \u001b[0mnorm\u001b[0m\u001b[0;34m,\u001b[0m \u001b[0;32mNone\u001b[0m\u001b[0;34m,\u001b[0m \u001b[0mworkers\u001b[0m\u001b[0;34m)\u001b[0m\u001b[0;34m\u001b[0m\u001b[0;34m\u001b[0m\u001b[0m\n\u001b[0m\u001b[1;32m     62\u001b[0m \u001b[0;34m\u001b[0m\u001b[0m\n\u001b[1;32m     63\u001b[0m \u001b[0;34m\u001b[0m\u001b[0m\n",
            "\u001b[0;31mKeyboardInterrupt\u001b[0m: "
          ]
        }
      ]
    },
    {
      "cell_type": "code",
      "source": [
        "\n"
      ],
      "metadata": {
        "id": "nYBNrGhZihXi"
      },
      "execution_count": null,
      "outputs": []
    },
    {
      "cell_type": "code",
      "metadata": {
        "colab": {
          "base_uri": "https://localhost:8080/"
        },
        "id": "782385ed",
        "outputId": "4add8db0-9d15-4b64-b89c-a6b0cea95bc4"
      },
      "source": [
        "print(f\"Length of predictions: {len(predictions)}\")\n",
        "print(f\"Length of references: {len(references)}\")"
      ],
      "execution_count": 18,
      "outputs": [
        {
          "output_type": "stream",
          "name": "stdout",
          "text": [
            "Length of predictions: 12\n",
            "Length of references: 12\n"
          ]
        }
      ]
    },
    {
      "cell_type": "code",
      "metadata": {
        "colab": {
          "base_uri": "https://localhost:8080/"
        },
        "id": "05fa2601",
        "outputId": "a00c9f28-1d98-4a54-becc-95f3263173c9"
      },
      "source": [
        "wer_score = wer.compute(predictions=predictions, references=references) * 100\n",
        "print(f\"Word Error Rate (WER): {wer_score:.2f}%\")"
      ],
      "execution_count": 19,
      "outputs": [
        {
          "output_type": "stream",
          "name": "stdout",
          "text": [
            "Word Error Rate (WER): 100.00%\n"
          ]
        }
      ]
    },
    {
      "cell_type": "code",
      "source": [
        "text"
      ],
      "metadata": {
        "colab": {
          "base_uri": "https://localhost:8080/",
          "height": 174
        },
        "id": "uQUEtryRiiz1",
        "outputId": "03657723-35d2-43e8-bffe-14f8bcd3f948"
      },
      "execution_count": 20,
      "outputs": [
        {
          "output_type": "execute_result",
          "data": {
            "text/plain": [
              "'[\\n  {\\n    \"start\": 0.13,\\n    \"end\": 15.07,\\n    \"speaker_id\": 198074,\\n    \"text\": \"जी जी जी इतिहास रच दिए हम जहां रहते है ऐतिहासिक स्थल है अभी हम नालंदा में थे नालंदा खंडार भी गए है हा नालंदा खंडार गए भी है नालंदा विश्व विद्यालय जो पहले था राजगीर ।\"\\n  },\\n  {\\n    \"start\": 15.79,\\n    \"end\": 30.01,\\n    \"speaker_id\": 198074,\\n    \"text\": \"उन्हों से क्या घुरें पहले से तो भाई बहुत अच्छा बन गया है लेकिन हां वो जगह बहुत ही पुराने पुराने दीवार इतना मोटा मोटा दीवार पहली बार देखे थे नंदा खंडहर का बहुत ही\"\\n  },\\n  {\\n    \"start\": 30.22,\\n    \"end\": 45.1,\\n    \"speaker_id\": 198074,\\n    \"text\": \"खंडर बन गया लेकिन फिर भी बहुत सुन्दर अभी भी है बहुत अच्छा ऐतिहासिक जगह उसका डिजाइन एक से एक डिजाइन उसका ईट का डिजाइन इतना बढ़िया बढ़िया सजाया गया है ईंट की हम देख नहीं सकते देख के कहेंगे की बहुत पुराना बहुत अच्छा है\"\\n  },\\n  {\\n    \"start\": 45.43,\\n    \"end\": 60.25,\\n    \"speaker_id\": 198074,\\n    \"text\": \"पीठ हो या वहां का स्थल हो कितना दरवाजा था जितना अभी भी किला जना रहा है बहुत अच्छा उसका शायद तस्वीर भी हर दिन बहुत सारे लोग जाते हैं तस्वीर खींचते हैं घूमने जाते हैं बहुत दूर दूर से लोग वहां आते हैं घूमने के लिए\"\\n  },\\n  {\\n    \"start\": 61.63,\\n    \"end\": 65.35,\\n    \"speaker_id\": 198074,\\n    \"text\": \"जी,\"\\n  },\\n  {\\n    \"start\": 69.73,\\n    \"end\": 70.24,\\n    \"speaker_id\": 198074,\\n    \"text\": \"हां\"\\n  },\\n  {\\n    \"start\": 72.91,\\n    \"end\": 74.56,\\n    \"speaker_id\": 198074,\\n    \"text\": \"सुने है लेकिन नहीं गए है हम\"\\n  },\\n  {\\n    \"start\": 78.19,\\n    \"end\": 78.82,\\n    \"speaker_id\": 198074,\\n    \"text\": \"जी बिल्कुल।\"\\n  },\\n  {\\n    \"start\": 81.88,\\n    \"end\": 82.3,\\n    \"speaker_id\": 198074,\\n    \"text\": \"जी\"\\n  },\\n  {\\n    \"start\": 91.66,\\n    \"end\": 93.52,\\n    \"speaker_id\": 198074,\\n    \"text\": \"बप्पा\"\\n  },\\n  {\\n    \"start\": 97.09,\\n    \"end\": 98.02,\\n    \"speaker_id\": 198074,\\n    \"text\": \"जी\"\\n  },\\n  {\\n    \"start\": 102.46,\\n    \"end\": 103.51,\\n    \"speaker_id\": 198074,\\n    \"text\": \"REDACTED\"\\n  },\\n  {\\n    \"start\": 105.79,\\n    \"end\": 106.24,\\n    \"speaker_id\": 198074,\\n    \"text\": \"जी\"\\n  },\\n  {\\n    \"start\": 109.03,\\n    \"end\": 109.81,\\n    \"speaker_id\": 198074,\\n    \"text\": \"जी।\"\\n  },\\n  {\\n    \"start\": 115.33,\\n    \"end\": 115.72,\\n    \"speaker_id\": 198074,\\n    \"text\": \"REDACTED\"\\n  },\\n  {\\n    \"start\": 121.54,\\n    \"end\": 122.74,\\n    \"speaker_id\": 198074,\\n    \"text\": \"जी\"\\n  },\\n  {\\n    \"start\": 129.91,\\n    \"end\": 130.39,\\n    \"speaker_id\": 198074,\\n    \"text\": \"जी\"\\n  },\\n  {\\n    \"start\": 136.84,\\n    \"end\": 140.62,\\n    \"speaker_id\": 198074,\\n    \"text\": \"जी जी\"\\n  },\\n  {\\n    \"start\": 144.67,\\n    \"end\": 145.39,\\n    \"speaker_id\": 198074,\\n    \"text\": \"क्षम्म\"\\n  },\\n  {\\n    \"start\": 158.8,\\n    \"end\": 159.07,\\n    \"speaker_id\": 198074,\\n    \"text\": \"जी\"\\n  },\\n  {\\n    \"start\": 170.89,\\n    \"end\": 171.52,\\n    \"speaker_id\": 198074,\\n    \"text\": \"जी\"\\n  },\\n  {\\n    \"start\": 179.92,\\n    \"end\": 180.25,\\n    \"speaker_id\": 198074,\\n    \"text\": \"हा\"\\n  },\\n  {\\n    \"start\": 187.6,\\n    \"end\": 188.2,\\n    \"speaker_id\": 198074,\\n    \"text\": \"हां जी\"\\n  },\\n  {\\n    \"start\": 192.58,\\n    \"end\": 195.64,\\n    \"speaker_id\": 198074,\\n    \"text\": \"आ नहीं\"\\n  },\\n  {\\n    \"start\": 197.95,\\n    \"end\": 198.43,\\n    \"speaker_id\": 198074,\\n    \"text\": \"हुम।\"\\n  },\\n  {\\n    \"start\": 225.1,\\n    \"end\": 239.62,\\n    \"speaker_id\": 198074,\\n    \"text\": \"जी हम भी गए थे जी एक वाराणसी गए हैं वाराणसी बहुत अच्छा स्थान है जी वाराणसी गए थे गंगा आरती उसका बहुत अच्छा वहा काशी विश्वनाथ मंदिर था वहाँ भी\"\\n  },\\n  {\\n    \"start\": 239.65,\\n    \"end\": 249.13,\\n    \"speaker_id\": 198074,\\n    \"text\": \"मज़ा किये है बहुत अच्छा तो आओ गाँव अच्छा बन गया है बहोत जगह नवी कल्पना है जब मोदी पी एम् उद्धघाटन किये थे अच्छा है बना हुआ है\"\\n  },\\n  {\\n    \"start\": 249.91,\\n    \"end\": 264.43,\\n    \"speaker_id\": 198074,\\n    \"text\": \"वहाँ घाट है, अस्सी घाट है तो हम लोग तो जा रहे ना है तीस पैंतीस घाट घूमें थे, उसमें राजा हरिश्चंद्र घाट है, जहां राजा हरिश्चंद्र जहां, लाथ वो भी घाट है, मणिकर्णिका का घाट है, बहुत सारे घाट है, नदी के गंगाजी है\"\\n  },\\n  {\\n    \"start\": 264.52,\\n    \"end\": 265.63,\\n    \"speaker_id\": 198074,\\n    \"text\": \"बहुत सुन्दर देश है ।\"\\n  },\\n  {\\n    \"start\": 267.88,\\n    \"end\": 282.28,\\n    \"speaker_id\": 198074,\\n    \"text\": \"अभी घूरे थे मीटर का भी बगल में से मंदिर जाने हा तो पहले इधर से जाना था काशी विश्वनाथ मंदिर का टेंपर रोड पर से था रास्ता लेकिन आपको मनिकरण का बिन इतना बढ़िया बन गया वहीं से जाना पड़ता है\"\\n  },\\n  {\\n    \"start\": 282.94,\\n    \"end\": 297.34,\\n    \"speaker_id\": 198074,\\n    \"text\": \"बहुत सुविधा हो गया है पहले के अनुसार अब उतना लाइन में लगना नहीं पड़ता है बहुत दोनों तरफ से जाते हैं ना तो दोनों तरफ से कम भीड़ लगता है वहाँ एक और है अनपुर्णा देवी का मंदिर है उसमें हा उसमें भोजन दिन रात\"\\n  },\\n  {\\n    \"start\": 297.34,\\n    \"end\": 310.9,\\n    \"speaker_id\": 198074,\\n    \"text\": \"REDACTED\"\\n  },\\n  {\\n    \"start\": 311.11,\\n    \"end\": 317.26,\\n    \"speaker_id\": 198074,\\n    \"text\": \"बहुत ज़्यादा भीड़ है\"\\n  },\\n  {\\n    \"start\": 322.15,\\n    \"end\": 329.98,\\n    \"speaker_id\": 198074,\\n    \"text\": \"अ बहुत ज्यादा भीड़ भी बहुत सी आती थी जो भी जाते हैं ना गंगा आरती लिए जरूरी ठहरते हैं जी\"\\n  },\\n  {\\n    \"start\": 335.38,\\n    \"end\": 337.93,\\n    \"speaker_id\": 198074,\\n    \"text\": \"हां बिल्कुल किये है ,हां बिल्कुल किये है\"\\n  },\\n  {\\n    \"start\": 340.72,\\n    \"end\": 341.98,\\n    \"speaker_id\": 198074,\\n    \"text\": \"हांजी\"\\n  },\\n  {\\n    \"start\": 348.01,\\n    \"end\": 355.57,\\n    \"speaker_id\": 198074,\\n    \"text\": \"हा बहुत इस पर ओ घाट के लिए कितना मूवी भी बन चुका है फिल्म भी सूटिंग होते रहता\"\\n  },\\n  {\\n    \"start\": 357.64,\\n    \"end\": 370.45,\\n    \"speaker_id\": 198074,\\n    \"text\": \"ऐसी नाव में स्थिति होती है सटी नाव मतलब नाव वाला लेता है ना पूरा घाट घूराने का दो सौ रुपया लेता पूरा अस्सी घाट है पूरा घूराता है तो हम लोगभी अ अ\"\\n  },\\n  {\\n    \"start\": 372.46,\\n    \"end\": 386.02,\\n    \"speaker_id\": 198074,\\n    \"text\": \"नई अस्सी घाट नाव पर नाव पर से घूम लिये लेकिन रहे थे तीन चार दिन फैमिली साथ गए थे ना तो मने हुआ शाम के गए तो मम्मी कहीं नहीं अब गंगा आरती बिना देखले हम नहीं जाएंगे एक दिन और रहना परा गंगा आरती के लिए तो रुके तो फिर\"\\n  },\\n  {\\n    \"start\": 386.23,\\n    \"end\": 400.24,\\n    \"speaker_id\": 198074,\\n    \"text\": \"अब घाट भी घूम लीजिए और पूजा उजा करना था दो बार कर लिए दोनों दिन कर लिए शेक दानी कटे बटे हां दोनों दिन कर लिए रूम लेके रुके थे बहुत लोग गए थे दस पंद्रह आदमी मिल के पूरा फैमिली गए थे\"\\n  },\\n  {\\n    \"start\": 400.3,\\n    \"end\": 404.35,\\n    \"speaker_id\": 198074,\\n    \"text\": \"बहुत अच्छा बहुत अच्छा रहा सब खुश होकर आए, मतलब कि बहुत अच्छा रहा\"\\n  },\\n  {\\n    \"start\": 406.51,\\n    \"end\": 420.25,\\n    \"speaker_id\": 198074,\\n    \"text\": \"शाम को तेरा बांका रा मे जब न गंगा आरती होता है ईतना बढ़िया बांटाबरन हो जाता है दम सबका मन एक दम शांत हो जाता है पूरा गंगा आरती हां गंगा जी में भी पूट जहाज रहता है ना बाटरोला\"\\n  },\\n  {\\n    \"start\": 420.58,\\n    \"end\": 435.28,\\n    \"speaker_id\": 198074,\\n    \"text\": \"पूरा रहता है, शीप रहता है, पूरा रहता उस पे भी आदमी जा जाके देखते हैं। बाहर के लोग भी आते हैं या हम लोग भी जा सकते हैं बहुत पैसा देके बहुत भरा हुआ लैट ऐसा लगा रहता है बहुत अच्छा लगता है। बहुत जादे\"\\n  },\\n  {\\n    \"start\": 436.84,\\n    \"end\": 440.32,\\n    \"speaker_id\": 198074,\\n    \"text\": \"जी जी\"\\n  },\\n  {\\n    \"start\": 443.5,\\n    \"end\": 443.86,\\n    \"speaker_id\": 198074,\\n    \"text\": \"जी\"\\n  },\\n  {\\n    \"start\": 445.87,\\n    \"end\": 447.37,\\n    \"speaker_id\": 198074,\\n    \"text\": \"जी\"\\n  },\\n  {\\n    \"start\": 464.89,\\n    \"end\": 465.34,\\n    \"speaker_id\": 198074,\\n    \"text\": \"REDACTED\"\\n  },\\n  {\\n    \"start\": 470.65,\\n    \"end\": 471.31,\\n    \"speaker_id\": 198074,\\n    \"text\": \"जी\"\\n  },\\n  {\\n    \"start\": 478.06,\\n    \"end\": 481.27,\\n    \"speaker_id\": 198074,\\n    \"text\": \"जी\"\\n  },\\n  {\\n    \"start\": 484.48,\\n    \"end\": 488.11,\\n    \"speaker_id\": 198074,\\n    \"text\": \"जी\"\\n  },\\n  {\\n    \"start\": 490.54,\\n    \"end\": 498.25,\\n    \"speaker_id\": 198074,\\n    \"text\": \"REDACTED\"\\n  },\\n  {\\n    \"start\": 515.38,\\n    \"end\": 516.34,\\n    \"speaker_id\": 198074,\\n    \"text\": \"जी\"\\n  },\\n  {\\n    \"start\": 528.88,\\n    \"end\": 543.22,\\n    \"speaker_id\": 198074,\\n    \"text\": \"हमलोग के नजदीक में ही है राजगीर नाम सुने होंगे राजगीर का नहीं सुने हा राजगीर राजगीर में वह एक कुंड है पहाड़ वहदत तो है एक कुंड है वहां हर साल मतलब साल में हर दिन।\"\\n  },\\n  {\\n    \"start\": 543.55,\\n    \"end\": 557.02,\\n    \"speaker_id\": 198074,\\n    \"text\": \"गरम पानी कुंड से गिरता है गरम पानी रहता है नानी को पहाड़े पर से पानी आता है पता ही नहीं चलता वहीं पर है राजगिर में ये जरासन रखा रा जहां जरासन की लड़ाई हुआ था ना भीम से।\"\\n  },\\n  {\\n    \"start\": 557.44,\\n    \"end\": 570.31,\\n    \"speaker_id\": 198074,\\n    \"text\": \"वही हुआ़ था वह अभी भी हैं और जो कृष्ण भगवान रथ से गए थें जहां रथ धंसा था वो रथ पहिया का चिन्हा भी अभी भी हैं हाॅं चिन्हा भी हैं आ जराशन अखाड़ा तो पूरा हैं\"\\n  },\\n  {\\n    \"start\": 570.82,\\n    \"end\": 583.63,\\n    \"speaker_id\": 198074,\\n    \"text\": \"बहुत जा राशन का जो खा रहा है उसके बारे में स्वर्ण भण्डार है आज तक उसका जो गेट है ना बंद किया हुआ नहीं टूटा है कि अंग्रेज लोग भी हां अंग्रेज लोग भी तोप से उसको तोड़ने कोशिश किया लेकिन इतना मोटा।\"\\n  },\\n  {\\n    \"start\": 583.66,\\n    \"end\": 596.89,\\n    \"speaker_id\": 198074,\\n    \"text\": \"पत्थर से टूटा ही नहीं उसमें लिखा हुआ है कुछ वो भाषा का प्रयोग ऐसे न भाषा में लिखा है उ भाषा को पढ़ेगा तब ये गेट है उसमें लिखा हुआ है हा हां हां पास तक\"\\n  },\\n  {\\n    \"start\": 597.61,\\n    \"end\": 608.77,\\n    \"speaker_id\": 198074,\\n    \"text\": \"आज तक नहीं पढ़ पाया नां ही खुला है कि बहुत सारे लोग उसमें भी डेखने आते हैं जहां असम है खड़ा के जिससे हम लोग के बगल में नेपाल हुआ भुटान ई सब से बहुट लोग आते हैं हर दिन भीर लगा रहता है हां ।\"\\n  },\\n  {\\n    \"start\": 609.28,\\n    \"end\": 619.27,\\n    \"speaker_id\": 198074,\\n    \"text\": \"रात से ना खा रहा हो गया रसण भन्डारा हो गया ये सब पुरा ऐतिहासिक ना पुरा देखने आते हैं। नलन्दा के बगल में आती हैं तो दोनों देख लेते हैं नलन्दा और राजगिर दोनों घुर लेते हैं।\"\\n  },\\n  {\\n    \"start\": 630.07,\\n    \"end\": 634.69,\\n    \"speaker_id\": 198074,\\n    \"text\": \"हम्म\"\\n  },\\n  {\\n    \"start\": 638.53,\\n    \"end\": 649.36,\\n    \"speaker_id\": 198074,\\n    \"text\": \"हां जी आपसे भी बात करके बहुत अच्छा जी धन्यवाद जी\"\\n  }\\n]'"
            ],
            "application/vnd.google.colaboratory.intrinsic+json": {
              "type": "string"
            }
          },
          "metadata": {},
          "execution_count": 20
        }
      ]
    },
    {
      "cell_type": "code",
      "source": [
        "text_preds"
      ],
      "metadata": {
        "colab": {
          "base_uri": "https://localhost:8080/"
        },
        "id": "5Pnx-Dl_ii2K",
        "outputId": "762d7e82-63ff-48c0-962d-027211e19677"
      },
      "execution_count": 21,
      "outputs": [
        {
          "output_type": "execute_result",
          "data": {
            "text/plain": [
              "[' Yes, this is the history of this place. We live in this place, where we are now in Nalanda. Nalanda is the place of Khandhar. Yes, Nalanda is the place of Khandhar. Nalanda is the place of the first king, of both the places. The first one was very good. But, there was a lot of old walls, such big walls, we saw for the first time.']"
            ]
          },
          "metadata": {},
          "execution_count": 21
        }
      ]
    },
    {
      "cell_type": "code",
      "source": [],
      "metadata": {
        "id": "6J43UW8Sii7_"
      },
      "execution_count": null,
      "outputs": []
    }
  ]
}